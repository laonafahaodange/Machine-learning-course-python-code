{
 "cells": [
  {
   "cell_type": "markdown",
   "id": "0fc4cdd1",
   "metadata": {},
   "source": [
    "# 偏差和方差"
   ]
  },
  {
   "cell_type": "markdown",
   "id": "590766e4",
   "metadata": {},
   "source": [
    "In the first half of the exercise, you will implement regularized linear regression to predict the amount of water flowing out of a dam using the change\n",
    "of water level in a reservoir.   \n",
    "你需要用正则化线性回归根据水位等级的变化预测水库大坝的水流量"
   ]
  },
  {
   "cell_type": "code",
   "execution_count": 839,
   "id": "e1e51c6b",
   "metadata": {},
   "outputs": [],
   "source": [
    "from scipy.io import loadmat\n",
    "import numpy as np\n",
    "import pandas as pd"
   ]
  },
  {
   "cell_type": "code",
   "execution_count": 840,
   "id": "7f8ce5ff",
   "metadata": {},
   "outputs": [],
   "source": [
    "#读取数据\n",
    "def loadData():\n",
    "    data=loadmat('ex5data1.mat')\n",
    "    return map(np.ravel,[data['X'],data['y'],data['Xval'],data['yval'],data['Xtest'],data['ytest']])"
   ]
  },
  {
   "cell_type": "markdown",
   "id": "a4985a1f",
   "metadata": {},
   "source": [
    "map() 会根据提供的函数对指定序列做映射。  \n",
    "第一个参数 function 以参数序列中的每一个元素调用 function 函数，返回包含每次 function 函数返回值的新列表。  \n",
    "相当于列表中的参数```d['X'],d['y'],d['Xval'],d['yval'],d['Xtest'],d['ytest']```都作为np.ravel函数的参数得到返回值。这些返回值组成列表成为map函数的返回值。  \n",
    "**注意：python3.x版本返回的是迭代器，如果要查看值需要转换成list对象**"
   ]
  },
  {
   "cell_type": "code",
   "execution_count": 841,
   "id": "0bdaf571",
   "metadata": {},
   "outputs": [
    {
     "data": {
      "text/plain": [
       "array([-15.93675813, -29.15297922,  36.18954863,  37.49218733,\n",
       "       -48.05882945,  -8.94145794,  15.30779289, -34.70626581,\n",
       "         1.38915437, -44.38375985,   7.01350208,  22.76274892])"
      ]
     },
     "execution_count": 841,
     "metadata": {},
     "output_type": "execute_result"
    }
   ],
   "source": [
    "#just for test\n",
    "D=loadData()\n",
    "D=list(D)\n",
    "d1,d2,d3,d4,d5,d6=D#原来还可以这么用\n",
    "d1"
   ]
  },
  {
   "cell_type": "code",
   "execution_count": 842,
   "id": "e15d2f68",
   "metadata": {},
   "outputs": [],
   "source": [
    "X,y,Xval,yval,Xtest,ytest=loadData()\n",
    "data_frame=pd.DataFrame({'water level':X,'flow':y})"
   ]
  },
  {
   "cell_type": "code",
   "execution_count": 843,
   "id": "d93f65c6",
   "metadata": {},
   "outputs": [
    {
     "data": {
      "image/png": "[encoded data removed]",
      "text/plain": [
       "<Figure size 360x360 with 1 Axes>"
      ]
     },
     "metadata": {
      "needs_background": "light"
     },
     "output_type": "display_data"
    }
   ],
   "source": [
    "import seaborn as sns#绘图用\n",
    "import matplotlib.pyplot as plt\n",
    "#参数含义：x坐标标签，y坐标标签，数据，是否绘制回归模型，大小（新的API里面size被\n",
    "#          重命名为height了，应该为高度）\n",
    "sns.lmplot(x='water level',y='flow',data=data_frame,fit_reg=False,height=5)\n",
    "plt.show()#不用好像也没事"
   ]
  },
  {
   "cell_type": "markdown",
   "id": "485b0ba2",
   "metadata": {},
   "source": [
    "Seaborn是在matplotlib的基础上进行了更高级的API封装，从而使得作图更加容易，在大多数情况下使用seaborn能做出很具有吸引力的图，而使用matplotlib就能制作具有更多特色的图。应该把Seaborn视为matplotlib的补充，而不是替代物。同时它能高度兼容numpy与pandas数据结构以及scipy与statsmodels等统计模式。  \n",
    "lmplot是用来绘制回归图的，通过lmplot我们可以直观地总览数据的内在关系  \n",
    "关于警告**FutureWarning: Pass the following variables as keyword args: x, y. From version 0.12, the only valid positional argument \n",
    "will be `data`, and passing other arguments without an explicit keyword will result in an error or misinterpretation.\n",
    "FutureWarning**的问题，可以参考这篇文章https://blog.csdn.net/qq_45261963/article/details/118324085"
   ]
  },
  {
   "cell_type": "code",
   "execution_count": 844,
   "id": "86bd1c45",
   "metadata": {},
   "outputs": [
    {
     "data": {
      "text/plain": [
       "(array([-15.93675813, -29.15297922,  36.18954863,  37.49218733,\n",
       "        -48.05882945,  -8.94145794,  15.30779289, -34.70626581,\n",
       "          1.38915437, -44.38375985,   7.01350208,  22.76274892]),\n",
       " array([[-15.93675813],\n",
       "        [-29.15297922],\n",
       "        [ 36.18954863],\n",
       "        [ 37.49218733],\n",
       "        [-48.05882945],\n",
       "        [ -8.94145794],\n",
       "        [ 15.30779289],\n",
       "        [-34.70626581],\n",
       "        [  1.38915437],\n",
       "        [-44.38375985],\n",
       "        [  7.01350208],\n",
       "        [ 22.76274892]]))"
      ]
     },
     "execution_count": 844,
     "metadata": {},
     "output_type": "execute_result"
    }
   ],
   "source": [
    "#把一维数组转换为二维数组再插值\n",
    "X1=X.reshape(X.shape[0],1)\n",
    "X,X1#感受下区别"
   ]
  },
  {
   "cell_type": "code",
   "execution_count": 845,
   "id": "133b84e9",
   "metadata": {},
   "outputs": [],
   "source": [
    "#一维数组转换为二维数组\n",
    "X=X.reshape(X.shape[0],1)\n",
    "Xval=Xval.reshape(Xval.shape[0],1)\n",
    "Xtest=Xtest.reshape(Xtest.shape[0],1)\n",
    "#插值\n",
    "X=np.insert(X,0,np.ones(X.shape[0]),axis=1)\n",
    "Xval=np.insert(Xval,0,np.ones(Xval.shape[0]),axis=1)\n",
    "Xtest=np.insert(Xtest,0,np.ones(Xtest.shape[0]),axis=1)"
   ]
  },
  {
   "cell_type": "markdown",
   "id": "a36e2e4d",
   "metadata": {},
   "source": [
    "# 正则化代价函数\n",
    "<img style=\"float: left;\" src=\"../img/linear_cost.png\">  "
   ]
  },
  {
   "cell_type": "markdown",
   "id": "64adc22c",
   "metadata": {},
   "source": [
    "要需要加上：  \n",
    "$$\\frac{\\lambda }{2m}\\sum\\limits_{j=1}^{n}{\\theta _{j}^{2}}$$  \n",
    "记住theta0不需要正则化"
   ]
  },
  {
   "cell_type": "code",
   "execution_count": 846,
   "id": "4cd1f135",
   "metadata": {},
   "outputs": [],
   "source": [
    "def costReg(theta,X,y,learning_rate):\n",
    "    '''\n",
    "    X：（m x n）\n",
    "    y：（m x 1）\n",
    "    theta：（1 x n）\n",
    "    '''\n",
    "    X=np.matrix(X)\n",
    "    y=np.matrix(y)\n",
    "    theta=np.matrix(theta)\n",
    "    \n",
    "    m=X.shape[0]\n",
    "    \n",
    "    J=np.sum(np.power((X*theta.T-y.T),2))/(2*m)#维度需要对应\n",
    "    reg=learning_rate/(2*m)*np.sum(np.power(theta[:,1:],2))\n",
    "    \n",
    "    J_reg=J+reg\n",
    "    return J_reg\n",
    "    "
   ]
  },
  {
   "cell_type": "code",
   "execution_count": 847,
   "id": "c718acaa",
   "metadata": {},
   "outputs": [
    {
     "data": {
      "text/plain": [
       "303.9515255535976"
      ]
     },
     "execution_count": 847,
     "metadata": {},
     "output_type": "execute_result"
    }
   ],
   "source": [
    "theta=np.ones(X.shape[1])\n",
    "costReg(theta,X,y,0)"
   ]
  },
  {
   "cell_type": "markdown",
   "id": "5daedfa7",
   "metadata": {},
   "source": [
    "# 正则化梯度\n",
    "<img style=\"float: left;\" src=\"../img/linear_reg_gradient.png\">"
   ]
  },
  {
   "cell_type": "code",
   "execution_count": 848,
   "id": "d08722c2",
   "metadata": {},
   "outputs": [],
   "source": [
    "def gradientReg(theta,X,y,learning_rate):\n",
    "    '''\n",
    "    X：（m x n）n已经包含截距项\n",
    "    y：（1 x m）\n",
    "    theta：（1 x n）\n",
    "    '''\n",
    "    X=np.matrix(X)\n",
    "    y=np.matrix(y)\n",
    "    theta=np.matrix(theta)\n",
    "    \n",
    "    m=X.shape[0]\n",
    "    \n",
    "    J_gradient=(X.T*(X*theta.T-y.T)).T/m\n",
    "    J_gradient[:,1:]=J_gradient[:,1:]+learning_rate/m*theta[:,1:]\n",
    "    \n",
    "    return J_gradient"
   ]
  },
  {
   "cell_type": "code",
   "execution_count": 849,
   "id": "b5d5b57f",
   "metadata": {},
   "outputs": [
    {
     "data": {
      "text/plain": [
       "matrix([[-15.30301567, 598.25074417]])"
      ]
     },
     "execution_count": 849,
     "metadata": {},
     "output_type": "execute_result"
    }
   ],
   "source": [
    "gradientReg(theta,X,y,1)\n",
    "#注意返回值是矩阵对象，参考代码里面是np的数组对象，似乎对后面opt.minimize参数传入无影响"
   ]
  },
  {
   "cell_type": "code",
   "execution_count": 850,
   "id": "b290081a",
   "metadata": {},
   "outputs": [],
   "source": [
    "#线性回归拟合参数\n",
    "import scipy.optimize as opt\n",
    "\n",
    "def linearRegression(X,y,learning_rate):\n",
    "    '''\n",
    "    X：（m x n+1）\n",
    "    y：（1 x m）\n",
    "    learning_rate: 正则化参数\n",
    "    '''\n",
    "    #初始化\n",
    "    theta=np.ones(X.shape[1])\n",
    "    \n",
    "    res=opt.minimize(fun=costReg,x0=theta,args=(X,y,learning_rate),method='TNC',jac=gradientReg,options={'disp':True})\n",
    "    \n",
    "    return res"
   ]
  },
  {
   "cell_type": "code",
   "execution_count": 851,
   "id": "42a9eeeb",
   "metadata": {},
   "outputs": [
    {
     "data": {
      "text/plain": [
       "array([13.08790348,  0.36777923])"
      ]
     },
     "execution_count": 851,
     "metadata": {},
     "output_type": "execute_result"
    }
   ],
   "source": [
    "fmin=linearRegression(X,y,0)\n",
    "fmin.x"
   ]
  },
  {
   "cell_type": "code",
   "execution_count": 852,
   "id": "3ee4af7e",
   "metadata": {},
   "outputs": [
    {
     "data": {
      "image/png": "[encoded data removed]",
      "text/plain": [
       "<Figure size 432x288 with 1 Axes>"
      ]
     },
     "metadata": {
      "needs_background": "light"
     },
     "output_type": "display_data"
    }
   ],
   "source": [
    "#假定拟合的方程为y=kx+b\n",
    "b=fmin.x[0]\n",
    "k=fmin.x[1]\n",
    "#画图\n",
    "plt.scatter(X[:,1:],y,label='traning data')\n",
    "plt.plot(X[:,1:],X[:,1:]*k+b,label='prediction')\n",
    "plt.legend(loc=0)#loc参数参考下面的解释\n",
    "plt.show()"
   ]
  },
  {
   "cell_type": "markdown",
   "id": "790be242",
   "metadata": {},
   "source": [
    "<img style=\"float: left;\" src=\"../img/plt_loc.png\">"
   ]
  },
  {
   "cell_type": "code",
   "execution_count": 853,
   "id": "a881fa92",
   "metadata": {},
   "outputs": [
    {
     "data": {
      "text/plain": [
       "((12, 2), (12,), (21, 2), (21,))"
      ]
     },
     "execution_count": 853,
     "metadata": {},
     "output_type": "execute_result"
    }
   ],
   "source": [
    "X.shape,y.shape,Xval.shape,yval.shape"
   ]
  },
  {
   "cell_type": "code",
   "execution_count": 854,
   "id": "9b56f2c1",
   "metadata": {},
   "outputs": [],
   "source": [
    "training_cost=[]\n",
    "cv_cost=[]\n",
    "\n",
    "m=X.shape[0]\n",
    "\n",
    "#先不考虑正则化\n",
    "for i in range(1,m+1):#imax=m\n",
    "    fmin=linearRegression(X[:i,:],y[:i],0)#X[:m,:]取不到m，刚好合适，训练样本递增输入拟合参数\n",
    "    train_c=costReg(fmin.x,X,y,0)#参考代码只计算参加拟合的训练集部分，但是我认为应当计算全部输入样本\n",
    "#     cv_c=costReg(fmin.x,Xval[:i,:],yval[:i],0)\n",
    "    cv_c = costReg(fmin.x, Xval, yval, 0)#验证集则要全部输入\n",
    "    \n",
    "    training_cost.append(train_c)\n",
    "    cv_cost.append(cv_c)\n",
    "    \n",
    "# training_cost=np.array(training_cost)\n",
    "# cv_cost=np.array(cv_cost)"
   ]
  },
  {
   "cell_type": "code",
   "execution_count": 855,
   "id": "d44fb4fb",
   "metadata": {},
   "outputs": [
    {
     "name": "stdout",
     "output_type": "stream",
     "text": [
      "final traning cost: 22.373906495108912\n",
      "final cv cost: 29.433818153684733\n"
     ]
    },
    {
     "data": {
      "image/png": "[encoded data removed]",
      "text/plain": [
       "<Figure size 432x288 with 1 Axes>"
      ]
     },
     "metadata": {
      "needs_background": "light"
     },
     "output_type": "display_data"
    }
   ],
   "source": [
    "print('final traning cost: {}\\nfinal cv cost: {}'.format(training_cost[-1],cv_cost[-1]))\n",
    "x=np.arange(1,m+1)\n",
    "# x.shape,training_cost.shape,cv_cost.shape\n",
    "plt.plot(x,training_cost,label='traning cost')\n",
    "plt.plot(x,cv_cost,label='cv cost')\n",
    "plt.legend()\n",
    "plt.show()"
   ]
  },
  {
   "cell_type": "markdown",
   "id": "51ee831d",
   "metadata": {},
   "source": [
    "训练集误差与交叉验证集误差近似（误差也较大），欠拟合"
   ]
  },
  {
   "cell_type": "markdown",
   "id": "3729bfb4",
   "metadata": {},
   "source": [
    "尝试增加X的幂，利用多项式逼近数据。  \n",
    "需要写一个函数，输入原始X和幂的次数p，返回X的1到p次幂。"
   ]
  },
  {
   "cell_type": "code",
   "execution_count": 856,
   "id": "8e01010c",
   "metadata": {},
   "outputs": [],
   "source": [
    "def polyFeatures(X,power):\n",
    "    #初始化\n",
    "    df=pd.DataFrame()\n",
    "    for i in range(1,power+1):\n",
    "        df.insert(i-1,'f'+str(i),np.power(X,i))\n",
    "    return df"
   ]
  },
  {
   "cell_type": "code",
   "execution_count": 857,
   "id": "beb1549c",
   "metadata": {},
   "outputs": [
    {
     "data": {
      "text/html": [
       "<div>\n",
       "<style scoped>\n",
       "    .dataframe tbody tr th:only-of-type {\n",
       "        vertical-align: middle;\n",
       "    }\n",
       "\n",
       "    .dataframe tbody tr th {\n",
       "        vertical-align: top;\n",
       "    }\n",
       "\n",
       "    .dataframe thead th {\n",
       "        text-align: right;\n",
       "    }\n",
       "</style>\n",
       "<table border=\"1\" class=\"dataframe\">\n",
       "  <thead>\n",
       "    <tr style=\"text-align: right;\">\n",
       "      <th></th>\n",
       "      <th>f1</th>\n",
       "      <th>f2</th>\n",
       "      <th>f3</th>\n",
       "    </tr>\n",
       "  </thead>\n",
       "  <tbody>\n",
       "    <tr>\n",
       "      <th>0</th>\n",
       "      <td>-15.936758</td>\n",
       "      <td>253.980260</td>\n",
       "      <td>-4047.621971</td>\n",
       "    </tr>\n",
       "    <tr>\n",
       "      <th>1</th>\n",
       "      <td>-29.152979</td>\n",
       "      <td>849.896197</td>\n",
       "      <td>-24777.006175</td>\n",
       "    </tr>\n",
       "    <tr>\n",
       "      <th>2</th>\n",
       "      <td>36.189549</td>\n",
       "      <td>1309.683430</td>\n",
       "      <td>47396.852168</td>\n",
       "    </tr>\n",
       "    <tr>\n",
       "      <th>3</th>\n",
       "      <td>37.492187</td>\n",
       "      <td>1405.664111</td>\n",
       "      <td>52701.422173</td>\n",
       "    </tr>\n",
       "    <tr>\n",
       "      <th>4</th>\n",
       "      <td>-48.058829</td>\n",
       "      <td>2309.651088</td>\n",
       "      <td>-110999.127750</td>\n",
       "    </tr>\n",
       "    <tr>\n",
       "      <th>5</th>\n",
       "      <td>-8.941458</td>\n",
       "      <td>79.949670</td>\n",
       "      <td>-714.866612</td>\n",
       "    </tr>\n",
       "    <tr>\n",
       "      <th>6</th>\n",
       "      <td>15.307793</td>\n",
       "      <td>234.328523</td>\n",
       "      <td>3587.052500</td>\n",
       "    </tr>\n",
       "    <tr>\n",
       "      <th>7</th>\n",
       "      <td>-34.706266</td>\n",
       "      <td>1204.524887</td>\n",
       "      <td>-41804.560890</td>\n",
       "    </tr>\n",
       "    <tr>\n",
       "      <th>8</th>\n",
       "      <td>1.389154</td>\n",
       "      <td>1.929750</td>\n",
       "      <td>2.680720</td>\n",
       "    </tr>\n",
       "    <tr>\n",
       "      <th>9</th>\n",
       "      <td>-44.383760</td>\n",
       "      <td>1969.918139</td>\n",
       "      <td>-87432.373590</td>\n",
       "    </tr>\n",
       "    <tr>\n",
       "      <th>10</th>\n",
       "      <td>7.013502</td>\n",
       "      <td>49.189211</td>\n",
       "      <td>344.988637</td>\n",
       "    </tr>\n",
       "    <tr>\n",
       "      <th>11</th>\n",
       "      <td>22.762749</td>\n",
       "      <td>518.142738</td>\n",
       "      <td>11794.353058</td>\n",
       "    </tr>\n",
       "  </tbody>\n",
       "</table>\n",
       "</div>"
      ],
      "text/plain": [
       "           f1           f2             f3\n",
       "0  -15.936758   253.980260   -4047.621971\n",
       "1  -29.152979   849.896197  -24777.006175\n",
       "2   36.189549  1309.683430   47396.852168\n",
       "3   37.492187  1405.664111   52701.422173\n",
       "4  -48.058829  2309.651088 -110999.127750\n",
       "5   -8.941458    79.949670    -714.866612\n",
       "6   15.307793   234.328523    3587.052500\n",
       "7  -34.706266  1204.524887  -41804.560890\n",
       "8    1.389154     1.929750       2.680720\n",
       "9  -44.383760  1969.918139  -87432.373590\n",
       "10   7.013502    49.189211     344.988637\n",
       "11  22.762749   518.142738   11794.353058"
      ]
     },
     "execution_count": 857,
     "metadata": {},
     "output_type": "execute_result"
    }
   ],
   "source": [
    "#重新读取一遍数据（因为前面有些数据插过一列1了）\n",
    "X,y,Xval,yval,Xtest,ytest=loadData()\n",
    "polyFeatures(X,3)"
   ]
  },
  {
   "cell_type": "code",
   "execution_count": 858,
   "id": "246f04e2",
   "metadata": {},
   "outputs": [],
   "source": [
    "#幂次方+归一化+插值\n",
    "def polyAndNormalizeFeatures(X,power):\n",
    "    data=polyFeatures(X,power)\n",
    "    data_normalize=(data-data.mean())/data.std()\n",
    "    data_normalize.insert(0,'f0',1)\n",
    "    \n",
    "    return np.matrix(data_normalize)#转换成矩阵对象"
   ]
  },
  {
   "cell_type": "code",
   "execution_count": 859,
   "id": "29b9bf4c",
   "metadata": {},
   "outputs": [
    {
     "data": {
      "text/plain": [
       "matrix([[ 1.00000000e+00, -3.62140776e-01, -7.55086688e-01,\n",
       "          1.82225876e-01, -7.06189908e-01,  3.06617917e-01,\n",
       "         -5.90877673e-01,  3.44515797e-01, -5.08481165e-01],\n",
       "        [ 1.00000000e+00, -8.03204845e-01,  1.25825266e-03,\n",
       "         -2.47936991e-01, -3.27023420e-01,  9.33963187e-02,\n",
       "         -4.35817606e-01,  2.55416116e-01, -4.48912493e-01],\n",
       "        [ 1.00000000e+00,  1.37746700e+00,  5.84826715e-01,\n",
       "          1.24976856e+00,  2.45311974e-01,  9.78359696e-01,\n",
       "         -1.21556976e-02,  7.56568484e-01, -1.70352114e-01]])"
      ]
     },
     "execution_count": 859,
     "metadata": {},
     "output_type": "execute_result"
    }
   ],
   "source": [
    "X_poly=polyAndNormalizeFeatures(X,8)\n",
    "Xval_poly=polyAndNormalizeFeatures(Xval,8)\n",
    "X_poly[:3,:]"
   ]
  },
  {
   "cell_type": "code",
   "execution_count": 860,
   "id": "a37f78c9",
   "metadata": {},
   "outputs": [],
   "source": [
    "#定义一个能画出原数据散点图和拟合曲线图的函数\n",
    "def plotData(X,y,power,learning_rate):\n",
    "    fig,ax=plt.subplots(figsize=(5,5))\n",
    "    ax.scatter(X,y,c='b',label='data')\n",
    "    \n",
    "    fmin=linearRegression(X_poly,y,learning_rate)\n",
    "    \n",
    "    fitx=np.linspace(-50,50,100)#-50到50之间生成100个点\n",
    "    fitx_poly=polyAndNormalizeFeatures(fitx,power)\n",
    "    fity=(fmin.x*fitx_poly.T).T\n",
    "    ax.plot(fitx, fity, c='r', label='fitcurve')\n",
    "    ax.set_xlabel('water level')\n",
    "    ax.set_ylabel('flow')\n",
    "    plt.show()"
   ]
  },
  {
   "cell_type": "code",
   "execution_count": 861,
   "id": "c7c31adb",
   "metadata": {},
   "outputs": [],
   "source": [
    "#画学习曲线\n",
    "def plotLearningCurve(X,y,Xval,yval,learning_rate):\n",
    "    training_cost=[]\n",
    "    cv_cost=[]\n",
    "\n",
    "    m=X.shape[0]\n",
    "\n",
    "    for i in range(1,m+1):#imax=m\n",
    "        fmin=linearRegression(X[:i,:],y[:i],learning_rate)#X[:m,:]取不到m，刚好合适，训练样本递增输入拟合参数\n",
    "        train_c=costReg(fmin.x,X,y,learning_rate)#参考代码只计算参加拟合的训练集部分，但是我认为应当计算全部输入样本\n",
    "        cv_c = costReg(fmin.x, Xval, yval, learning_rate)#验证集则要全部输入\n",
    "\n",
    "        training_cost.append(train_c)\n",
    "        cv_cost.append(cv_c)\n",
    "        \n",
    "    print('final training cost: {}\\nfinal cv cost: {}'.format(training_cost[-1],cv_cost[-1]))\n",
    "    \n",
    "    x=np.arange(1,m+1)\n",
    "    plt.plot(x,training_cost,label='traning cost')\n",
    "    plt.plot(x,cv_cost,label='cv cost')\n",
    "    plt.legend()\n",
    "    plt.show()"
   ]
  },
  {
   "cell_type": "code",
   "execution_count": 862,
   "id": "bb3be466",
   "metadata": {},
   "outputs": [
    {
     "name": "stdout",
     "output_type": "stream",
     "text": [
      "final training cost: 0.040792616513995524\n",
      "final cv cost: 13.38368335936944\n"
     ]
    },
    {
     "data": {
      "image/png": "[encoded data removed]",
      "text/plain": [
       "<Figure size 432x288 with 1 Axes>"
      ]
     },
     "metadata": {
      "needs_background": "light"
     },
     "output_type": "display_data"
    }
   ],
   "source": [
    "plotLearningCurve(X_poly,y,Xval_poly,yval,0)"
   ]
  },
  {
   "cell_type": "markdown",
   "id": "4f921be4",
   "metadata": {},
   "source": [
    "交叉验证集误差远大于训练集误差，过拟合"
   ]
  },
  {
   "cell_type": "code",
   "execution_count": 863,
   "id": "480d0dfc",
   "metadata": {},
   "outputs": [
    {
     "data": {
      "image/png": "[encoded data removed]",
      "text/plain": [
       "<Figure size 360x360 with 1 Axes>"
      ]
     },
     "metadata": {
      "needs_background": "light"
     },
     "output_type": "display_data"
    }
   ],
   "source": [
    "plotData(X,y,8,0)"
   ]
  },
  {
   "cell_type": "markdown",
   "id": "d553d476",
   "metadata": {},
   "source": [
    "尝试$\\lambda=1$和$\\lambda=100$"
   ]
  },
  {
   "cell_type": "code",
   "execution_count": 864,
   "id": "fafe5ea0",
   "metadata": {},
   "outputs": [
    {
     "name": "stdout",
     "output_type": "stream",
     "text": [
      "final training cost: 7.26814810416875\n",
      "final cv cost: 7.663500870015859\n"
     ]
    },
    {
     "data": {
      "image/png": "[encoded data removed]",
      "text/plain": [
       "<Figure size 432x288 with 1 Axes>"
      ]
     },
     "metadata": {
      "needs_background": "light"
     },
     "output_type": "display_data"
    }
   ],
   "source": [
    "plotLearningCurve(X_poly,y,Xval_poly,yval,1)"
   ]
  },
  {
   "cell_type": "markdown",
   "id": "313a00c9",
   "metadata": {},
   "source": [
    "$\\lambda=1$时由图可知我们减轻了过拟合"
   ]
  },
  {
   "cell_type": "code",
   "execution_count": 865,
   "id": "79260050",
   "metadata": {},
   "outputs": [
    {
     "data": {
      "image/png": "[encoded data removed]",
      "text/plain": [
       "<Figure size 360x360 with 1 Axes>"
      ]
     },
     "metadata": {
      "needs_background": "light"
     },
     "output_type": "display_data"
    }
   ],
   "source": [
    "plotData(X,y,8,1)"
   ]
  },
  {
   "cell_type": "code",
   "execution_count": 866,
   "id": "faf55ddb",
   "metadata": {},
   "outputs": [
    {
     "name": "stdout",
     "output_type": "stream",
     "text": [
      "final training cost: 66.73316088777061\n",
      "final cv cost: 64.6097684920021\n"
     ]
    },
    {
     "data": {
      "image/png": "[encoded data removed]",
      "text/plain": [
       "<Figure size 432x288 with 1 Axes>"
      ]
     },
     "metadata": {
      "needs_background": "light"
     },
     "output_type": "display_data"
    }
   ],
   "source": [
    "plotLearningCurve(X_poly,y,Xval_poly,yval,100)"
   ]
  },
  {
   "cell_type": "markdown",
   "id": "b7eb714d",
   "metadata": {},
   "source": [
    "$\\lambda=100$时误差太大且近似，又回到了欠拟合状态"
   ]
  },
  {
   "cell_type": "code",
   "execution_count": 867,
   "id": "2b50f6c4",
   "metadata": {},
   "outputs": [
    {
     "data": {
      "image/png": "[encoded data removed]",
      "text/plain": [
       "<Figure size 360x360 with 1 Axes>"
      ]
     },
     "metadata": {
      "needs_background": "light"
     },
     "output_type": "display_data"
    }
   ],
   "source": [
    "plotData(X,y,8,100)"
   ]
  },
  {
   "cell_type": "code",
   "execution_count": 868,
   "id": "c78f98f5",
   "metadata": {},
   "outputs": [],
   "source": [
    "#尝试找到最佳的lambda\n",
    "lambda_list=[0,0.001,0.003,0.01,0.03,0.1,0.3,1,3,10,30,100]\n",
    "training_cost=[]\n",
    "cv_cost=[]\n",
    "for l in lambda_list:\n",
    "    fmin=linearRegression(X_poly,y,l)\n",
    "    train_c=costReg(fmin.x,X_poly,y,l)\n",
    "    cv_c=costReg(fmin.x,Xval_poly,yval,l)\n",
    "    \n",
    "    training_cost.append(train_c)\n",
    "    cv_cost.append(cv_c)"
   ]
  },
  {
   "cell_type": "code",
   "execution_count": 869,
   "id": "d56aeecf",
   "metadata": {},
   "outputs": [
    {
     "data": {
      "image/png": "[encoded data removed]",
      "text/plain": [
       "<Figure size 432x288 with 1 Axes>"
      ]
     },
     "metadata": {
      "needs_background": "light"
     },
     "output_type": "display_data"
    }
   ],
   "source": [
    "plt.plot(lambda_list,training_cost,label='traning cost')\n",
    "plt.plot(lambda_list,cv_cost,label='cv cost')\n",
    "plt.legend()\n",
    "plt.xlabel('lambda')\n",
    "plt.ylabel('cost')\n",
    "plt.show()"
   ]
  },
  {
   "cell_type": "code",
   "execution_count": 870,
   "id": "c1d976e5",
   "metadata": {},
   "outputs": [
    {
     "data": {
      "text/plain": [
       "0.3"
      ]
     },
     "execution_count": 870,
     "metadata": {},
     "output_type": "execute_result"
    }
   ],
   "source": [
    "#选取交叉验证集代价最小的lambda最为最佳lambda\n",
    "best_lambda_index=np.argmin(cv_cost)\n",
    "lambda_list[best_lambda_index]"
   ]
  },
  {
   "cell_type": "code",
   "execution_count": 871,
   "id": "4c49a3fd",
   "metadata": {},
   "outputs": [
    {
     "name": "stdout",
     "output_type": "stream",
     "text": [
      "traning cost: 3.101591069272189\n",
      "cv cost: 6.642293255182302\n"
     ]
    }
   ],
   "source": [
    "#对应代价\n",
    "print('traning cost: {}\\ncv cost: {}'.format(training_cost[best_lambda_index],cv_cost[best_lambda_index]))"
   ]
  },
  {
   "cell_type": "markdown",
   "id": "57795914",
   "metadata": {},
   "source": [
    "到现在为止，我们用训练集获得了theta，用验证集选择了lambda。  \n",
    "实际上，为了获得一个更好的模型，我们需要把最终的模型用在测试集上。"
   ]
  },
  {
   "cell_type": "code",
   "execution_count": 872,
   "id": "5f4efe52",
   "metadata": {},
   "outputs": [
    {
     "name": "stdout",
     "output_type": "stream",
     "text": [
      "test cost: 10.122298845834932 (lambda=0)\n",
      "\n",
      "test cost: 11.0244971993592 (lambda=0.001)\n",
      "\n",
      "test cost: 11.312489921863342 (lambda=0.003)\n",
      "\n",
      "test cost: 10.975073335890318 (lambda=0.01)\n",
      "\n",
      "test cost: 10.243711175686 (lambda=0.03)\n",
      "\n",
      "test cost: 9.19443520337945 (lambda=0.1)\n",
      "\n",
      "test cost: 8.582129145724204 (lambda=0.3)\n",
      "\n",
      "test cost: 10.433103235788298 (lambda=1)\n",
      "\n",
      "test cost: 17.910413974944728 (lambda=3)\n",
      "\n",
      "test cost: 37.58935778020023 (lambda=10)\n",
      "\n",
      "test cost: 63.06814851245913 (lambda=30)\n",
      "\n",
      "test cost: 85.15354352157908 (lambda=100)\n",
      "\n"
     ]
    }
   ],
   "source": [
    "Xtest_poly=polyAndNormalizeFeatures(Xtest,8)\n",
    "test_cost=[]\n",
    "for l in lambda_list:\n",
    "    fmin=linearRegression(X_poly,y,l)\n",
    "    test_c=costReg(fmin.x,Xtest_poly,ytest,l)\n",
    "    test_cost.append(test_c)\n",
    "    print('test cost: {} (lambda={})\\n'.format(test_c,l))"
   ]
  },
  {
   "cell_type": "code",
   "execution_count": 873,
   "id": "ee9872b4",
   "metadata": {},
   "outputs": [
    {
     "data": {
      "text/plain": [
       "0.3"
      ]
     },
     "execution_count": 873,
     "metadata": {},
     "output_type": "execute_result"
    }
   ],
   "source": [
    "#test cost最小的lambda\n",
    "best_lambda_index=np.argmin(test_cost)\n",
    "lambda_list[best_lambda_index]"
   ]
  },
  {
   "cell_type": "code",
   "execution_count": null,
   "id": "16f9e79a",
   "metadata": {},
   "outputs": [],
   "source": []
  }
 ],
 "metadata": {
  "kernelspec": {
   "display_name": "Python 3",
   "language": "python",
   "name": "python3"
  },
  "language_info": {
   "codemirror_mode": {
    "name": "ipython",
    "version": 3
   },
   "file_extension": ".py",
   "mimetype": "text/x-python",
   "name": "python",
   "nbconvert_exporter": "python",
   "pygments_lexer": "ipython3",
   "version": "3.8.8"
  }
 },
 "nbformat": 4,
 "nbformat_minor": 5
}
