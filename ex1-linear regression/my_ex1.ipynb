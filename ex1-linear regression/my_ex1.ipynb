{
 "cells": [
  {
   "cell_type": "code",
   "execution_count": 177,
   "id": "6662b435",
   "metadata": {},
   "outputs": [],
   "source": [
    "import numpy as np\n",
    "import matplotlib.pyplot as plt\n",
    "import pandas as pd"
   ]
  },
  {
   "cell_type": "code",
   "execution_count": 178,
   "id": "99c90fa4",
   "metadata": {},
   "outputs": [
    {
     "data": {
      "text/plain": [
       "array([[1., 0., 0., 0., 0.],\n",
       "       [0., 1., 0., 0., 0.],\n",
       "       [0., 0., 1., 0., 0.],\n",
       "       [0., 0., 0., 1., 0.],\n",
       "       [0., 0., 0., 0., 1.]])"
      ]
     },
     "execution_count": 178,
     "metadata": {},
     "output_type": "execute_result"
    }
   ],
   "source": [
    "I=np.eye(5)#输出一个5*5的单位矩阵\n",
    "I"
   ]
  },
  {
   "cell_type": "code",
   "execution_count": 179,
   "id": "d7945874",
   "metadata": {},
   "outputs": [
    {
     "data": {
      "text/html": [
       "<div>\n",
       "<style scoped>\n",
       "    .dataframe tbody tr th:only-of-type {\n",
       "        vertical-align: middle;\n",
       "    }\n",
       "\n",
       "    .dataframe tbody tr th {\n",
       "        vertical-align: top;\n",
       "    }\n",
       "\n",
       "    .dataframe thead th {\n",
       "        text-align: right;\n",
       "    }\n",
       "</style>\n",
       "<table border=\"1\" class=\"dataframe\">\n",
       "  <thead>\n",
       "    <tr style=\"text-align: right;\">\n",
       "      <th></th>\n",
       "      <th>Population</th>\n",
       "      <th>Profit</th>\n",
       "    </tr>\n",
       "  </thead>\n",
       "  <tbody>\n",
       "    <tr>\n",
       "      <th>0</th>\n",
       "      <td>6.1101</td>\n",
       "      <td>17.5920</td>\n",
       "    </tr>\n",
       "    <tr>\n",
       "      <th>1</th>\n",
       "      <td>5.5277</td>\n",
       "      <td>9.1302</td>\n",
       "    </tr>\n",
       "    <tr>\n",
       "      <th>2</th>\n",
       "      <td>8.5186</td>\n",
       "      <td>13.6620</td>\n",
       "    </tr>\n",
       "    <tr>\n",
       "      <th>3</th>\n",
       "      <td>7.0032</td>\n",
       "      <td>11.8540</td>\n",
       "    </tr>\n",
       "    <tr>\n",
       "      <th>4</th>\n",
       "      <td>5.8598</td>\n",
       "      <td>6.8233</td>\n",
       "    </tr>\n",
       "  </tbody>\n",
       "</table>\n",
       "</div>"
      ],
      "text/plain": [
       "   Population   Profit\n",
       "0      6.1101  17.5920\n",
       "1      5.5277   9.1302\n",
       "2      8.5186  13.6620\n",
       "3      7.0032  11.8540\n",
       "4      5.8598   6.8233"
      ]
     },
     "execution_count": 179,
     "metadata": {},
     "output_type": "execute_result"
    }
   ],
   "source": [
    "#读取数据并显示\n",
    "path='ex1data1.txt'\n",
    "data=pd.read_csv(path,header=None,names=['Population','Profit'])#无header表头，手动添加表头，名称为names\n",
    "data.head()#观察前5行"
   ]
  },
  {
   "cell_type": "code",
   "execution_count": 180,
   "id": "579db61f",
   "metadata": {},
   "outputs": [
    {
     "data": {
      "image/png": "[encoded data removed]",
      "text/plain": [
       "<Figure size 864x576 with 1 Axes>"
      ]
     },
     "metadata": {
      "needs_background": "light"
     },
     "output_type": "display_data"
    }
   ],
   "source": [
    "#可视化数据\n",
    "data.plot(kind='scatter', x='Population', y='Profit',figsize=(12,8))\n",
    "plt.xlabel('Population',size=16)\n",
    "plt.ylabel('Profit',size=16)\n",
    "plt.show()\n",
    "#由图可知Population和Profit范围接近，可以不需要归一化"
   ]
  },
  {
   "cell_type": "code",
   "execution_count": 181,
   "id": "0f8cc6aa",
   "metadata": {},
   "outputs": [],
   "source": [
    "data.insert(0,'ones',1)#插入第一列，表头名称，插入数字"
   ]
  },
  {
   "cell_type": "code",
   "execution_count": 182,
   "id": "638bf05b",
   "metadata": {},
   "outputs": [
    {
     "data": {
      "text/html": [
       "<div>\n",
       "<style scoped>\n",
       "    .dataframe tbody tr th:only-of-type {\n",
       "        vertical-align: middle;\n",
       "    }\n",
       "\n",
       "    .dataframe tbody tr th {\n",
       "        vertical-align: top;\n",
       "    }\n",
       "\n",
       "    .dataframe thead th {\n",
       "        text-align: right;\n",
       "    }\n",
       "</style>\n",
       "<table border=\"1\" class=\"dataframe\">\n",
       "  <thead>\n",
       "    <tr style=\"text-align: right;\">\n",
       "      <th></th>\n",
       "      <th>ones</th>\n",
       "      <th>Population</th>\n",
       "    </tr>\n",
       "  </thead>\n",
       "  <tbody>\n",
       "    <tr>\n",
       "      <th>0</th>\n",
       "      <td>1</td>\n",
       "      <td>6.1101</td>\n",
       "    </tr>\n",
       "    <tr>\n",
       "      <th>1</th>\n",
       "      <td>1</td>\n",
       "      <td>5.5277</td>\n",
       "    </tr>\n",
       "    <tr>\n",
       "      <th>2</th>\n",
       "      <td>1</td>\n",
       "      <td>8.5186</td>\n",
       "    </tr>\n",
       "    <tr>\n",
       "      <th>3</th>\n",
       "      <td>1</td>\n",
       "      <td>7.0032</td>\n",
       "    </tr>\n",
       "    <tr>\n",
       "      <th>4</th>\n",
       "      <td>1</td>\n",
       "      <td>5.8598</td>\n",
       "    </tr>\n",
       "  </tbody>\n",
       "</table>\n",
       "</div>"
      ],
      "text/plain": [
       "   ones  Population\n",
       "0     1      6.1101\n",
       "1     1      5.5277\n",
       "2     1      8.5186\n",
       "3     1      7.0032\n",
       "4     1      5.8598"
      ]
     },
     "execution_count": 182,
     "metadata": {},
     "output_type": "execute_result"
    }
   ],
   "source": [
    "#准备数据\n",
    "X=data.iloc[:,[0,1]]#取所有行，第1和第2列 此处其实不够“智能”\n",
    "X.head()"
   ]
  },
  {
   "cell_type": "code",
   "execution_count": 183,
   "id": "2d850b77",
   "metadata": {},
   "outputs": [
    {
     "data": {
      "text/html": [
       "<div>\n",
       "<style scoped>\n",
       "    .dataframe tbody tr th:only-of-type {\n",
       "        vertical-align: middle;\n",
       "    }\n",
       "\n",
       "    .dataframe tbody tr th {\n",
       "        vertical-align: top;\n",
       "    }\n",
       "\n",
       "    .dataframe thead th {\n",
       "        text-align: right;\n",
       "    }\n",
       "</style>\n",
       "<table border=\"1\" class=\"dataframe\">\n",
       "  <thead>\n",
       "    <tr style=\"text-align: right;\">\n",
       "      <th></th>\n",
       "      <th>Profit</th>\n",
       "    </tr>\n",
       "  </thead>\n",
       "  <tbody>\n",
       "    <tr>\n",
       "      <th>0</th>\n",
       "      <td>17.5920</td>\n",
       "    </tr>\n",
       "    <tr>\n",
       "      <th>1</th>\n",
       "      <td>9.1302</td>\n",
       "    </tr>\n",
       "    <tr>\n",
       "      <th>2</th>\n",
       "      <td>13.6620</td>\n",
       "    </tr>\n",
       "    <tr>\n",
       "      <th>3</th>\n",
       "      <td>11.8540</td>\n",
       "    </tr>\n",
       "    <tr>\n",
       "      <th>4</th>\n",
       "      <td>6.8233</td>\n",
       "    </tr>\n",
       "  </tbody>\n",
       "</table>\n",
       "</div>"
      ],
      "text/plain": [
       "    Profit\n",
       "0  17.5920\n",
       "1   9.1302\n",
       "2  13.6620\n",
       "3  11.8540\n",
       "4   6.8233"
      ]
     },
     "execution_count": 183,
     "metadata": {},
     "output_type": "execute_result"
    }
   ],
   "source": [
    "y=data.iloc[:,[-1]]#取所有行，最后一列，[-1]的“[]”不能少，否则维度不对\n",
    "y.head()"
   ]
  },
  {
   "cell_type": "code",
   "execution_count": 184,
   "id": "de1c8aca",
   "metadata": {},
   "outputs": [
    {
     "data": {
      "text/plain": [
       "(matrix([[ 1.    ,  6.1101],\n",
       "         [ 1.    ,  5.5277],\n",
       "         [ 1.    ,  8.5186],\n",
       "         [ 1.    ,  7.0032],\n",
       "         [ 1.    ,  5.8598],\n",
       "         [ 1.    ,  8.3829],\n",
       "         [ 1.    ,  7.4764],\n",
       "         [ 1.    ,  8.5781],\n",
       "         [ 1.    ,  6.4862],\n",
       "         [ 1.    ,  5.0546],\n",
       "         [ 1.    ,  5.7107],\n",
       "         [ 1.    , 14.164 ],\n",
       "         [ 1.    ,  5.734 ],\n",
       "         [ 1.    ,  8.4084],\n",
       "         [ 1.    ,  5.6407],\n",
       "         [ 1.    ,  5.3794],\n",
       "         [ 1.    ,  6.3654],\n",
       "         [ 1.    ,  5.1301],\n",
       "         [ 1.    ,  6.4296],\n",
       "         [ 1.    ,  7.0708],\n",
       "         [ 1.    ,  6.1891],\n",
       "         [ 1.    , 20.27  ],\n",
       "         [ 1.    ,  5.4901],\n",
       "         [ 1.    ,  6.3261],\n",
       "         [ 1.    ,  5.5649],\n",
       "         [ 1.    , 18.945 ],\n",
       "         [ 1.    , 12.828 ],\n",
       "         [ 1.    , 10.957 ],\n",
       "         [ 1.    , 13.176 ],\n",
       "         [ 1.    , 22.203 ],\n",
       "         [ 1.    ,  5.2524],\n",
       "         [ 1.    ,  6.5894],\n",
       "         [ 1.    ,  9.2482],\n",
       "         [ 1.    ,  5.8918],\n",
       "         [ 1.    ,  8.2111],\n",
       "         [ 1.    ,  7.9334],\n",
       "         [ 1.    ,  8.0959],\n",
       "         [ 1.    ,  5.6063],\n",
       "         [ 1.    , 12.836 ],\n",
       "         [ 1.    ,  6.3534],\n",
       "         [ 1.    ,  5.4069],\n",
       "         [ 1.    ,  6.8825],\n",
       "         [ 1.    , 11.708 ],\n",
       "         [ 1.    ,  5.7737],\n",
       "         [ 1.    ,  7.8247],\n",
       "         [ 1.    ,  7.0931],\n",
       "         [ 1.    ,  5.0702],\n",
       "         [ 1.    ,  5.8014],\n",
       "         [ 1.    , 11.7   ],\n",
       "         [ 1.    ,  5.5416],\n",
       "         [ 1.    ,  7.5402],\n",
       "         [ 1.    ,  5.3077],\n",
       "         [ 1.    ,  7.4239],\n",
       "         [ 1.    ,  7.6031],\n",
       "         [ 1.    ,  6.3328],\n",
       "         [ 1.    ,  6.3589],\n",
       "         [ 1.    ,  6.2742],\n",
       "         [ 1.    ,  5.6397],\n",
       "         [ 1.    ,  9.3102],\n",
       "         [ 1.    ,  9.4536],\n",
       "         [ 1.    ,  8.8254],\n",
       "         [ 1.    ,  5.1793],\n",
       "         [ 1.    , 21.279 ],\n",
       "         [ 1.    , 14.908 ],\n",
       "         [ 1.    , 18.959 ],\n",
       "         [ 1.    ,  7.2182],\n",
       "         [ 1.    ,  8.2951],\n",
       "         [ 1.    , 10.236 ],\n",
       "         [ 1.    ,  5.4994],\n",
       "         [ 1.    , 20.341 ],\n",
       "         [ 1.    , 10.136 ],\n",
       "         [ 1.    ,  7.3345],\n",
       "         [ 1.    ,  6.0062],\n",
       "         [ 1.    ,  7.2259],\n",
       "         [ 1.    ,  5.0269],\n",
       "         [ 1.    ,  6.5479],\n",
       "         [ 1.    ,  7.5386],\n",
       "         [ 1.    ,  5.0365],\n",
       "         [ 1.    , 10.274 ],\n",
       "         [ 1.    ,  5.1077],\n",
       "         [ 1.    ,  5.7292],\n",
       "         [ 1.    ,  5.1884],\n",
       "         [ 1.    ,  6.3557],\n",
       "         [ 1.    ,  9.7687],\n",
       "         [ 1.    ,  6.5159],\n",
       "         [ 1.    ,  8.5172],\n",
       "         [ 1.    ,  9.1802],\n",
       "         [ 1.    ,  6.002 ],\n",
       "         [ 1.    ,  5.5204],\n",
       "         [ 1.    ,  5.0594],\n",
       "         [ 1.    ,  5.7077],\n",
       "         [ 1.    ,  7.6366],\n",
       "         [ 1.    ,  5.8707],\n",
       "         [ 1.    ,  5.3054],\n",
       "         [ 1.    ,  8.2934],\n",
       "         [ 1.    , 13.394 ],\n",
       "         [ 1.    ,  5.4369]]),\n",
       " matrix([[17.592  ],\n",
       "         [ 9.1302 ],\n",
       "         [13.662  ],\n",
       "         [11.854  ],\n",
       "         [ 6.8233 ],\n",
       "         [11.886  ],\n",
       "         [ 4.3483 ],\n",
       "         [12.     ],\n",
       "         [ 6.5987 ],\n",
       "         [ 3.8166 ],\n",
       "         [ 3.2522 ],\n",
       "         [15.505  ],\n",
       "         [ 3.1551 ],\n",
       "         [ 7.2258 ],\n",
       "         [ 0.71618],\n",
       "         [ 3.5129 ],\n",
       "         [ 5.3048 ],\n",
       "         [ 0.56077],\n",
       "         [ 3.6518 ],\n",
       "         [ 5.3893 ],\n",
       "         [ 3.1386 ],\n",
       "         [21.767  ],\n",
       "         [ 4.263  ],\n",
       "         [ 5.1875 ],\n",
       "         [ 3.0825 ],\n",
       "         [22.638  ],\n",
       "         [13.501  ],\n",
       "         [ 7.0467 ],\n",
       "         [14.692  ],\n",
       "         [24.147  ],\n",
       "         [-1.22   ],\n",
       "         [ 5.9966 ],\n",
       "         [12.134  ],\n",
       "         [ 1.8495 ],\n",
       "         [ 6.5426 ],\n",
       "         [ 4.5623 ],\n",
       "         [ 4.1164 ],\n",
       "         [ 3.3928 ],\n",
       "         [10.117  ],\n",
       "         [ 5.4974 ],\n",
       "         [ 0.55657],\n",
       "         [ 3.9115 ],\n",
       "         [ 5.3854 ],\n",
       "         [ 2.4406 ],\n",
       "         [ 6.7318 ],\n",
       "         [ 1.0463 ],\n",
       "         [ 5.1337 ],\n",
       "         [ 1.844  ],\n",
       "         [ 8.0043 ],\n",
       "         [ 1.0179 ],\n",
       "         [ 6.7504 ],\n",
       "         [ 1.8396 ],\n",
       "         [ 4.2885 ],\n",
       "         [ 4.9981 ],\n",
       "         [ 1.4233 ],\n",
       "         [-1.4211 ],\n",
       "         [ 2.4756 ],\n",
       "         [ 4.6042 ],\n",
       "         [ 3.9624 ],\n",
       "         [ 5.4141 ],\n",
       "         [ 5.1694 ],\n",
       "         [-0.74279],\n",
       "         [17.929  ],\n",
       "         [12.054  ],\n",
       "         [17.054  ],\n",
       "         [ 4.8852 ],\n",
       "         [ 5.7442 ],\n",
       "         [ 7.7754 ],\n",
       "         [ 1.0173 ],\n",
       "         [20.992  ],\n",
       "         [ 6.6799 ],\n",
       "         [ 4.0259 ],\n",
       "         [ 1.2784 ],\n",
       "         [ 3.3411 ],\n",
       "         [-2.6807 ],\n",
       "         [ 0.29678],\n",
       "         [ 3.8845 ],\n",
       "         [ 5.7014 ],\n",
       "         [ 6.7526 ],\n",
       "         [ 2.0576 ],\n",
       "         [ 0.47953],\n",
       "         [ 0.20421],\n",
       "         [ 0.67861],\n",
       "         [ 7.5435 ],\n",
       "         [ 5.3436 ],\n",
       "         [ 4.2415 ],\n",
       "         [ 6.7981 ],\n",
       "         [ 0.92695],\n",
       "         [ 0.152  ],\n",
       "         [ 2.8214 ],\n",
       "         [ 1.8451 ],\n",
       "         [ 4.2959 ],\n",
       "         [ 7.2029 ],\n",
       "         [ 1.9869 ],\n",
       "         [ 0.14454],\n",
       "         [ 9.0551 ],\n",
       "         [ 0.61705]]),\n",
       " matrix([[0, 0]]))"
      ]
     },
     "execution_count": 184,
     "metadata": {},
     "output_type": "execute_result"
    }
   ],
   "source": [
    "#矩阵化\n",
    "X=np.matrix(X.values)\n",
    "y=np.matrix(y.values)\n",
    "#初始化theta0 theta1\n",
    "theta=np.matrix(np.array([0,0]))\n",
    "X,y,theta"
   ]
  },
  {
   "cell_type": "code",
   "execution_count": 185,
   "id": "954d5884",
   "metadata": {},
   "outputs": [
    {
     "data": {
      "text/plain": [
       "((97, 2), (97, 1), (1, 2))"
      ]
     },
     "execution_count": 185,
     "metadata": {},
     "output_type": "execute_result"
    }
   ],
   "source": [
    "X.shape,y.shape,theta.shape"
   ]
  },
  {
   "cell_type": "code",
   "execution_count": 186,
   "id": "07dbdcae",
   "metadata": {},
   "outputs": [],
   "source": [
    "#定义代价函数\n",
    "def cost_function(X,y,theta):\n",
    "    J=np.sum(np.power(X*theta.T-y,2))/(2*X.shape[0])\n",
    "    return J"
   ]
  },
  {
   "cell_type": "code",
   "execution_count": 187,
   "id": "295ec33f",
   "metadata": {},
   "outputs": [
    {
     "data": {
      "text/plain": [
       "32.072733877455676"
      ]
     },
     "execution_count": 187,
     "metadata": {},
     "output_type": "execute_result"
    }
   ],
   "source": [
    "#测试\n",
    "cost_function(X,y,theta)"
   ]
  },
  {
   "cell_type": "code",
   "execution_count": 188,
   "id": "644c1a55",
   "metadata": {},
   "outputs": [],
   "source": [
    "#批量梯度下降\n",
    "#alpha:学习率 iters:迭代次数\n",
    "def gradient_descent(X,y,theta,alpha,iters):\n",
    "    #初始化\n",
    "    #参数数目也就是theta的数目\n",
    "    parameters=int(theta.ravel().shape[1])#ravel将多维数组转换为一维数组\n",
    "    #暂存theta更新的变量\n",
    "    temp=np.matrix(np.zeros(theta.shape))\n",
    "    #可视化cost\n",
    "    cost=np.zeros(iters)\n",
    "    for i in range(iters):\n",
    "        error=X*theta.T-y\n",
    "        for j in range(parameters):\n",
    "            term=np.sum(np.multiply(error,X[:,j]))#multiply作用是对应位置相乘)\n",
    "            temp[0,j]=theta[0,j]-alpha*term/X.shape[0]\n",
    "        theta=temp\n",
    "        cost[i]=cost_function(X,y,theta)\n",
    "    return theta,cost"
   ]
  },
  {
   "cell_type": "code",
   "execution_count": 189,
   "id": "ea0799a9",
   "metadata": {},
   "outputs": [],
   "source": [
    "#初始化学习率和迭代次数\n",
    "learning_rate=0.01\n",
    "iters=1500"
   ]
  },
  {
   "cell_type": "code",
   "execution_count": 190,
   "id": "bc92937b",
   "metadata": {},
   "outputs": [
    {
     "data": {
      "text/plain": [
       "matrix([[-3.63029144,  1.16636235]])"
      ]
     },
     "execution_count": 190,
     "metadata": {},
     "output_type": "execute_result"
    }
   ],
   "source": [
    "#批量梯度下降\n",
    "fit_theta,cost=gradient_descent(X,y,theta,learning_rate,iters)\n",
    "fit_theta"
   ]
  },
  {
   "cell_type": "code",
   "execution_count": 191,
   "id": "7bee52ec",
   "metadata": {},
   "outputs": [
    {
     "data": {
      "text/plain": [
       "4.483388256587726"
      ]
     },
     "execution_count": 191,
     "metadata": {},
     "output_type": "execute_result"
    }
   ],
   "source": [
    "#计算拟合参数的代价\n",
    "cost_function(X,y,fit_theta)"
   ]
  },
  {
   "cell_type": "code",
   "execution_count": 193,
   "id": "43fc09b2",
   "metadata": {},
   "outputs": [
    {
     "data": {
      "image/png": "[encoded data removed]",
      "text/plain": [
       "<Figure size 864x576 with 1 Axes>"
      ]
     },
     "metadata": {
      "needs_background": "light"
     },
     "output_type": "display_data"
    }
   ],
   "source": [
    "#可视化拟合效果\n",
    "x_line=np.linspace(X.min(),X.max(),100)\n",
    "fit_line=fit_theta[0,0]+fit_theta[0,1]*x_line\n",
    "#设置画布\n",
    "fig,ax=plt.subplots(figsize=(12,8))\n",
    "#画出拟合的直线\n",
    "ax.plot(x_line, fit_line, 'r', label='Prediction')\n",
    "#画出数据的散点图\n",
    "ax.scatter(data.Population, data.Profit, label='Traning Data')\n",
    "#设置图例位置 2=upper left\n",
    "ax.legend(loc=2)\n",
    "#设置坐标，标题\n",
    "ax.set_xlabel('Population',size=16)\n",
    "ax.set_ylabel('Profit',size=16)\n",
    "ax.set_title('Predicted Profit vs. Population Size')\n",
    "plt.show()"
   ]
  },
  {
   "cell_type": "code",
   "execution_count": 195,
   "id": "d0786c60",
   "metadata": {},
   "outputs": [
    {
     "data": {
      "image/png": "[encoded data removed]",
      "text/plain": [
       "<Figure size 864x576 with 1 Axes>"
      ]
     },
     "metadata": {
      "needs_background": "light"
     },
     "output_type": "display_data"
    }
   ],
   "source": [
    "#绘制代价函数随迭代次数变化的曲线\n",
    "fig, ax = plt.subplots(figsize=(12,8))\n",
    "ax.plot(np.arange(iters), cost, 'r')\n",
    "ax.set_xlabel('Iterations',size=16)\n",
    "ax.set_ylabel('Cost',size=16)\n",
    "ax.set_title('Error vs. Training Epoch')\n",
    "plt.show()"
   ]
  },
  {
   "cell_type": "markdown",
   "id": "f777fc06",
   "metadata": {},
   "source": [
    "-------------------------------------------------------------------------------------------------------------------"
   ]
  },
  {
   "cell_type": "code",
   "execution_count": 210,
   "id": "9465c534",
   "metadata": {},
   "outputs": [
    {
     "data": {
      "text/html": [
       "<div>\n",
       "<style scoped>\n",
       "    .dataframe tbody tr th:only-of-type {\n",
       "        vertical-align: middle;\n",
       "    }\n",
       "\n",
       "    .dataframe tbody tr th {\n",
       "        vertical-align: top;\n",
       "    }\n",
       "\n",
       "    .dataframe thead th {\n",
       "        text-align: right;\n",
       "    }\n",
       "</style>\n",
       "<table border=\"1\" class=\"dataframe\">\n",
       "  <thead>\n",
       "    <tr style=\"text-align: right;\">\n",
       "      <th></th>\n",
       "      <th>Size</th>\n",
       "      <th>Bedrooms</th>\n",
       "      <th>Price</th>\n",
       "    </tr>\n",
       "  </thead>\n",
       "  <tbody>\n",
       "    <tr>\n",
       "      <th>0</th>\n",
       "      <td>2104</td>\n",
       "      <td>3</td>\n",
       "      <td>399900</td>\n",
       "    </tr>\n",
       "    <tr>\n",
       "      <th>1</th>\n",
       "      <td>1600</td>\n",
       "      <td>3</td>\n",
       "      <td>329900</td>\n",
       "    </tr>\n",
       "    <tr>\n",
       "      <th>2</th>\n",
       "      <td>2400</td>\n",
       "      <td>3</td>\n",
       "      <td>369000</td>\n",
       "    </tr>\n",
       "    <tr>\n",
       "      <th>3</th>\n",
       "      <td>1416</td>\n",
       "      <td>2</td>\n",
       "      <td>232000</td>\n",
       "    </tr>\n",
       "    <tr>\n",
       "      <th>4</th>\n",
       "      <td>3000</td>\n",
       "      <td>4</td>\n",
       "      <td>539900</td>\n",
       "    </tr>\n",
       "  </tbody>\n",
       "</table>\n",
       "</div>"
      ],
      "text/plain": [
       "   Size  Bedrooms   Price\n",
       "0  2104         3  399900\n",
       "1  1600         3  329900\n",
       "2  2400         3  369000\n",
       "3  1416         2  232000\n",
       "4  3000         4  539900"
      ]
     },
     "execution_count": 210,
     "metadata": {},
     "output_type": "execute_result"
    }
   ],
   "source": [
    "#多变量线性回归\n",
    "path='ex1data2.txt'\n",
    "data2=pd.read_csv(path,header=None,names=['Size','Bedrooms','Price'])\n",
    "data2.head()"
   ]
  },
  {
   "cell_type": "code",
   "execution_count": 211,
   "id": "55518779",
   "metadata": {},
   "outputs": [
    {
     "data": {
      "text/html": [
       "<div>\n",
       "<style scoped>\n",
       "    .dataframe tbody tr th:only-of-type {\n",
       "        vertical-align: middle;\n",
       "    }\n",
       "\n",
       "    .dataframe tbody tr th {\n",
       "        vertical-align: top;\n",
       "    }\n",
       "\n",
       "    .dataframe thead th {\n",
       "        text-align: right;\n",
       "    }\n",
       "</style>\n",
       "<table border=\"1\" class=\"dataframe\">\n",
       "  <thead>\n",
       "    <tr style=\"text-align: right;\">\n",
       "      <th></th>\n",
       "      <th>Size</th>\n",
       "      <th>Bedrooms</th>\n",
       "      <th>Price</th>\n",
       "    </tr>\n",
       "  </thead>\n",
       "  <tbody>\n",
       "    <tr>\n",
       "      <th>0</th>\n",
       "      <td>0.130010</td>\n",
       "      <td>-0.223675</td>\n",
       "      <td>0.475747</td>\n",
       "    </tr>\n",
       "    <tr>\n",
       "      <th>1</th>\n",
       "      <td>-0.504190</td>\n",
       "      <td>-0.223675</td>\n",
       "      <td>-0.084074</td>\n",
       "    </tr>\n",
       "    <tr>\n",
       "      <th>2</th>\n",
       "      <td>0.502476</td>\n",
       "      <td>-0.223675</td>\n",
       "      <td>0.228626</td>\n",
       "    </tr>\n",
       "    <tr>\n",
       "      <th>3</th>\n",
       "      <td>-0.735723</td>\n",
       "      <td>-1.537767</td>\n",
       "      <td>-0.867025</td>\n",
       "    </tr>\n",
       "    <tr>\n",
       "      <th>4</th>\n",
       "      <td>1.257476</td>\n",
       "      <td>1.090417</td>\n",
       "      <td>1.595389</td>\n",
       "    </tr>\n",
       "  </tbody>\n",
       "</table>\n",
       "</div>"
      ],
      "text/plain": [
       "       Size  Bedrooms     Price\n",
       "0  0.130010 -0.223675  0.475747\n",
       "1 -0.504190 -0.223675 -0.084074\n",
       "2  0.502476 -0.223675  0.228626\n",
       "3 -0.735723 -1.537767 -0.867025\n",
       "4  1.257476  1.090417  1.595389"
      ]
     },
     "execution_count": 211,
     "metadata": {},
     "output_type": "execute_result"
    }
   ],
   "source": [
    "#预处理，特征归一化\n",
    "data2=(data2-data2.mean())/data2.std()\n",
    "data2.head()"
   ]
  },
  {
   "cell_type": "code",
   "execution_count": 212,
   "id": "d6bc231b",
   "metadata": {},
   "outputs": [
    {
     "data": {
      "text/html": [
       "<div>\n",
       "<style scoped>\n",
       "    .dataframe tbody tr th:only-of-type {\n",
       "        vertical-align: middle;\n",
       "    }\n",
       "\n",
       "    .dataframe tbody tr th {\n",
       "        vertical-align: top;\n",
       "    }\n",
       "\n",
       "    .dataframe thead th {\n",
       "        text-align: right;\n",
       "    }\n",
       "</style>\n",
       "<table border=\"1\" class=\"dataframe\">\n",
       "  <thead>\n",
       "    <tr style=\"text-align: right;\">\n",
       "      <th></th>\n",
       "      <th>Ones</th>\n",
       "      <th>Size</th>\n",
       "      <th>Bedrooms</th>\n",
       "      <th>Price</th>\n",
       "    </tr>\n",
       "  </thead>\n",
       "  <tbody>\n",
       "    <tr>\n",
       "      <th>0</th>\n",
       "      <td>1</td>\n",
       "      <td>0.130010</td>\n",
       "      <td>-0.223675</td>\n",
       "      <td>0.475747</td>\n",
       "    </tr>\n",
       "    <tr>\n",
       "      <th>1</th>\n",
       "      <td>1</td>\n",
       "      <td>-0.504190</td>\n",
       "      <td>-0.223675</td>\n",
       "      <td>-0.084074</td>\n",
       "    </tr>\n",
       "    <tr>\n",
       "      <th>2</th>\n",
       "      <td>1</td>\n",
       "      <td>0.502476</td>\n",
       "      <td>-0.223675</td>\n",
       "      <td>0.228626</td>\n",
       "    </tr>\n",
       "    <tr>\n",
       "      <th>3</th>\n",
       "      <td>1</td>\n",
       "      <td>-0.735723</td>\n",
       "      <td>-1.537767</td>\n",
       "      <td>-0.867025</td>\n",
       "    </tr>\n",
       "    <tr>\n",
       "      <th>4</th>\n",
       "      <td>1</td>\n",
       "      <td>1.257476</td>\n",
       "      <td>1.090417</td>\n",
       "      <td>1.595389</td>\n",
       "    </tr>\n",
       "  </tbody>\n",
       "</table>\n",
       "</div>"
      ],
      "text/plain": [
       "   Ones      Size  Bedrooms     Price\n",
       "0     1  0.130010 -0.223675  0.475747\n",
       "1     1 -0.504190 -0.223675 -0.084074\n",
       "2     1  0.502476 -0.223675  0.228626\n",
       "3     1 -0.735723 -1.537767 -0.867025\n",
       "4     1  1.257476  1.090417  1.595389"
      ]
     },
     "execution_count": 212,
     "metadata": {},
     "output_type": "execute_result"
    }
   ],
   "source": [
    "data2.insert(0,'Ones',1)\n",
    "data2.head()"
   ]
  },
  {
   "cell_type": "code",
   "execution_count": 215,
   "id": "805f281d",
   "metadata": {},
   "outputs": [
    {
     "data": {
      "text/plain": [
       "((47, 3), (47, 1), (1, 3))"
      ]
     },
     "execution_count": 215,
     "metadata": {},
     "output_type": "execute_result"
    }
   ],
   "source": [
    "X2=data2.iloc[:,[0,1,2]]\n",
    "y2=data2.iloc[:,[-1]]\n",
    "#X2,y2矩阵化(一定要有)\n",
    "X2=np.matrix(X2.values)\n",
    "y2=np.matrix(y2.values)\n",
    "theta2=np.matrix(np.array([0,0,0]))\n",
    "X2.shape,y2.shape,theta2.shape"
   ]
  },
  {
   "cell_type": "code",
   "execution_count": 216,
   "id": "086d7fa4",
   "metadata": {},
   "outputs": [
    {
     "data": {
      "text/plain": [
       "0.130686706060959"
      ]
     },
     "execution_count": 216,
     "metadata": {},
     "output_type": "execute_result"
    }
   ],
   "source": [
    "fit_theta2,cost2=gradient_descent(X2,y2,theta2,learning_rate,iters)\n",
    "cost_function(X2,y2,fit_theta2)"
   ]
  },
  {
   "cell_type": "code",
   "execution_count": 217,
   "id": "d2668525",
   "metadata": {},
   "outputs": [
    {
     "data": {
      "image/png": "[encoded data removed]",
      "text/plain": [
       "<Figure size 864x576 with 1 Axes>"
      ]
     },
     "metadata": {
      "needs_background": "light"
     },
     "output_type": "display_data"
    }
   ],
   "source": [
    "#绘制代价函数随迭代次数变化的曲线\n",
    "fig, ax = plt.subplots(figsize=(12,8))\n",
    "ax.plot(np.arange(iters), cost2, 'r')\n",
    "ax.set_xlabel('Iterations',size=16)\n",
    "ax.set_ylabel('Cost',size=16)\n",
    "ax.set_title('Error vs. Training Epoch')\n",
    "plt.show()"
   ]
  },
  {
   "cell_type": "markdown",
   "id": "88a96287",
   "metadata": {},
   "source": [
    "-------------------------------------------------------------------------------------------------------------------"
   ]
  },
  {
   "cell_type": "code",
   "execution_count": 232,
   "id": "bb20be05",
   "metadata": {},
   "outputs": [],
   "source": [
    "def normal_equation(X,y):\n",
    "    theta=np.linalg.inv((X.T*X))*X.T*y\n",
    "    return theta"
   ]
  },
  {
   "cell_type": "code",
   "execution_count": 239,
   "id": "419ecbf9",
   "metadata": {},
   "outputs": [],
   "source": [
    "fit_theta3=normal_equation(X,y)\n",
    "fit_theta3=fit_theta3.ravel()"
   ]
  },
  {
   "cell_type": "code",
   "execution_count": 243,
   "id": "df5a9b78",
   "metadata": {},
   "outputs": [
    {
     "data": {
      "image/png": "[encoded data removed]",
      "text/plain": [
       "<Figure size 864x576 with 1 Axes>"
      ]
     },
     "metadata": {
      "needs_background": "light"
     },
     "output_type": "display_data"
    },
    {
     "data": {
      "image/png": "[encoded data removed]",
      "text/plain": [
       "<Figure size 864x576 with 1 Axes>"
      ]
     },
     "metadata": {
      "needs_background": "light"
     },
     "output_type": "display_data"
    },
    {
     "data": {
      "text/plain": [
       "(4.483388256587726, 4.476971375975179)"
      ]
     },
     "execution_count": 243,
     "metadata": {},
     "output_type": "execute_result"
    }
   ],
   "source": [
    "#批量梯度下降可视化拟合效果\n",
    "x_line=np.linspace(X.min(),X.max(),100)\n",
    "fit_line=fit_theta[0,0]+fit_theta[0,1]*x_line\n",
    "#设置画布\n",
    "fig,ax=plt.subplots(figsize=(12,8))\n",
    "#画出拟合的直线\n",
    "ax.plot(x_line, fit_line, 'r', label='Prediction')\n",
    "#画出数据的散点图\n",
    "ax.scatter(data.Population, data.Profit, label='Traning Data')\n",
    "#设置图例位置 2=upper left\n",
    "ax.legend(loc=2)\n",
    "#设置坐标，标题\n",
    "ax.set_xlabel('Population',size=16)\n",
    "ax.set_ylabel('Profit',size=16)\n",
    "ax.set_title('Gradient Descent')\n",
    "#正规方程可视化拟合效果\n",
    "x_line=np.linspace(X.min(),X.max(),100)\n",
    "fit_line=fit_theta3[0,0]+fit_theta3[0,1]*x_line\n",
    "#设置画布\n",
    "fig,ax=plt.subplots(figsize=(12,8))\n",
    "#画出拟合的直线\n",
    "ax.plot(x_line, fit_line, 'r', label='Prediction')\n",
    "#画出数据的散点图\n",
    "ax.scatter(data.Population, data.Profit, label='Traning Data')\n",
    "#设置图例位置 2=upper left\n",
    "ax.legend(loc=2)\n",
    "#设置坐标，标题\n",
    "ax.set_xlabel('Population',size=16)\n",
    "ax.set_ylabel('Profit',size=16)\n",
    "ax.set_title('Normal Equotion')\n",
    "plt.show()"
   ]
  },
  {
   "cell_type": "code",
   "execution_count": 244,
   "id": "9fb42d9c",
   "metadata": {},
   "outputs": [
    {
     "data": {
      "text/plain": [
       "(matrix([[-3.63029144,  1.16636235]]), matrix([[-3.89578088,  1.19303364]]))"
      ]
     },
     "execution_count": 244,
     "metadata": {},
     "output_type": "execute_result"
    }
   ],
   "source": [
    "fit_theta,fit_theta3"
   ]
  },
  {
   "cell_type": "code",
   "execution_count": 245,
   "id": "4e244726",
   "metadata": {},
   "outputs": [
    {
     "data": {
      "text/plain": [
       "(4.483388256587726, 4.476971375975179)"
      ]
     },
     "execution_count": 245,
     "metadata": {},
     "output_type": "execute_result"
    }
   ],
   "source": [
    "cost_function(X,y,fit_theta),cost_function(X,y,fit_theta3)"
   ]
  },
  {
   "cell_type": "code",
   "execution_count": null,
   "id": "27eba4c3",
   "metadata": {},
   "outputs": [],
   "source": []
  }
 ],
 "metadata": {
  "kernelspec": {
   "display_name": "Python 3",
   "language": "python",
   "name": "python3"
  },
  "language_info": {
   "codemirror_mode": {
    "name": "ipython",
    "version": 3
   },
   "file_extension": ".py",
   "mimetype": "text/x-python",
   "name": "python",
   "nbconvert_exporter": "python",
   "pygments_lexer": "ipython3",
   "version": "3.8.8"
  },
  "toc": {
   "base_numbering": 1,
   "nav_menu": {},
   "number_sections": true,
   "sideBar": true,
   "skip_h1_title": false,
   "title_cell": "Table of Contents",
   "title_sidebar": "Contents",
   "toc_cell": false,
   "toc_position": {},
   "toc_section_display": true,
   "toc_window_display": false
  }
 },
 "nbformat": 4,
 "nbformat_minor": 5
}
