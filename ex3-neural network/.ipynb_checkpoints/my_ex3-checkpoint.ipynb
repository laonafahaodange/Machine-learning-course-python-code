{
 "cells": [
  {
   "cell_type": "markdown",
   "id": "6a8b664c",
   "metadata": {},
   "source": [
    "# 运用逻辑回归实现手写数字0-9的识别（多分类）  "
   ]
  },
  {
   "cell_type": "code",
   "execution_count": 44,
   "id": "f33be0d7",
   "metadata": {},
   "outputs": [],
   "source": [
    "#读取m文件\n",
    "from scipy.io import loadmat\n",
    "import numpy as np\n",
    "import matplotlib.pyplot as plt\n",
    "import matplotlib"
   ]
  },
  {
   "cell_type": "code",
   "execution_count": 45,
   "id": "15fec168",
   "metadata": {},
   "outputs": [],
   "source": [
    "data=loadmat('ex3data1.mat')"
   ]
  },
  {
   "cell_type": "markdown",
   "id": "265fe923",
   "metadata": {},
   "source": [
    "这是一个MATLAB格式的.m文件，其中包含5000个20*20像素的手写字体图像，以及他对应的数字。另外，数字0的y值，对应的是10"
   ]
  },
  {
   "cell_type": "code",
   "execution_count": 46,
   "id": "9327401b",
   "metadata": {},
   "outputs": [
    {
     "data": {
      "text/plain": [
       "{'__header__': b'MATLAB 5.0 MAT-file, Platform: GLNXA64, Created on: Sun Oct 16 13:09:09 2011',\n",
       " '__version__': '1.0',\n",
       " '__globals__': [],\n",
       " 'X': array([[0., 0., 0., ..., 0., 0., 0.],\n",
       "        [0., 0., 0., ..., 0., 0., 0.],\n",
       "        [0., 0., 0., ..., 0., 0., 0.],\n",
       "        ...,\n",
       "        [0., 0., 0., ..., 0., 0., 0.],\n",
       "        [0., 0., 0., ..., 0., 0., 0.],\n",
       "        [0., 0., 0., ..., 0., 0., 0.]]),\n",
       " 'y': array([[10],\n",
       "        [10],\n",
       "        [10],\n",
       "        ...,\n",
       "        [ 9],\n",
       "        [ 9],\n",
       "        [ 9]], dtype=uint8)}"
      ]
     },
     "execution_count": 46,
     "metadata": {},
     "output_type": "execute_result"
    }
   ],
   "source": [
    "#打印看看\n",
    "data"
   ]
  },
  {
   "cell_type": "code",
   "execution_count": 47,
   "id": "965adeb0",
   "metadata": {},
   "outputs": [
    {
     "data": {
      "text/plain": [
       "((5000, 400), (5000, 1))"
      ]
     },
     "execution_count": 47,
     "metadata": {},
     "output_type": "execute_result"
    }
   ],
   "source": [
    "data['X'].shape,data['y'].shape"
   ]
  },
  {
   "cell_type": "markdown",
   "id": "4ea74f28",
   "metadata": {},
   "source": [
    "5000个数字，每个数字都是20 x 20 像素的图像，即样本数为5000，特征数为400"
   ]
  },
  {
   "cell_type": "code",
   "execution_count": 48,
   "id": "70f8e7b5",
   "metadata": {},
   "outputs": [
    {
     "data": {
      "image/png": "[encoded data removed]",
      "text/plain": [
       "<Figure size 72x72 with 1 Axes>"
      ]
     },
     "metadata": {
      "needs_background": "light"
     },
     "output_type": "display_data"
    },
    {
     "name": "stdout",
     "output_type": "stream",
     "text": [
      "[4]\n"
     ]
    }
   ],
   "source": [
    "#随便画出其中一个看看\n",
    "random_num=np.random.randint(0,5000)\n",
    "fig,ax=plt.subplots(figsize=(1,1))\n",
    "#cmap=matplotlib.cm.binary我猜是二值化颜色图\n",
    "ax.matshow(data['X'][random_num,:].reshape((20,20)).T,cmap=matplotlib.cm.binary)\n",
    "plt.show()\n",
    "print(data['y'][random_num])"
   ]
  },
  {
   "cell_type": "markdown",
   "id": "981d885a",
   "metadata": {},
   "source": [
    "--- \n",
    "### 多分类逻辑回归"
   ]
  },
  {
   "cell_type": "markdown",
   "id": "a13d3e68",
   "metadata": {},
   "source": [
    "sigmoid函数\n",
    "\\\\[{{h}_{\\theta }}\\left( x \\right)=\\frac{1}{1+{{e}^{-{{\\theta }^{T}}X}}}\\\\] "
   ]
  },
  {
   "cell_type": "code",
   "execution_count": 49,
   "id": "92a3e5e0",
   "metadata": {},
   "outputs": [],
   "source": [
    "#定义sigmoid函数\n",
    "def sigmoid(z):\n",
    "    return 1/(1+np.exp(-z))"
   ]
  },
  {
   "cell_type": "markdown",
   "id": "6f3fe099",
   "metadata": {},
   "source": [
    "# regularized cost（正则化代价函数）\n",
    "$$J\\left( \\theta  \\right)=\\frac{1}{m}\\sum\\limits_{i=1}^{m}{[-{{y}^{(i)}}\\log \\left( {{h}_{\\theta }}\\left( {{x}^{(i)}} \\right) \\right)-\\left( 1-{{y}^{(i)}} \\right)\\log \\left( 1-{{h}_{\\theta }}\\left( {{x}^{(i)}} \\right) \\right)]}+\\frac{\\lambda }{2m}\\sum\\limits_{j=1}^{n}{\\theta _{j}^{2}}$$"
   ]
  },
  {
   "cell_type": "code",
   "execution_count": 50,
   "id": "6ba598a3",
   "metadata": {},
   "outputs": [],
   "source": [
    "#参考代码里面用的代码是带正则化的，所以公式中应带正则化项\n",
    "def costReg(theta,X,y,learning_rate):\n",
    "    theta=np.matrix(theta)\n",
    "    X=np.matrix(X)\n",
    "    y=np.matrix(y)\n",
    "    \n",
    "    first=np.multiply(-y,np.log(sigmoid(X*theta.T)))\n",
    "    second=np.multiply((1-y),np.log(1-sigmoid(X*theta.T)))\n",
    "    reg=learning_rate/(2*len(X))*np.sum(np.power(theta[:,1:theta.shape[1]],2))\n",
    "    \n",
    "    return np.sum(first-second)/(len(X))+reg"
   ]
  },
  {
   "cell_type": "markdown",
   "id": "4bd3f618",
   "metadata": {},
   "source": [
    "使用梯度下降法令这个代价函数最小化，因为我们未对${{\\theta }_{0}}$ 进行正则化，所以梯度下降算法将分两种情形：\n",
    "\\begin{align}\n",
    "  & Repeat\\text{ }until\\text{ }convergence\\text{ }\\!\\!\\{\\!\\!\\text{ } \\\\ \n",
    " & \\text{     }{{\\theta }_{0}}:={{\\theta }_{0}}-a\\frac{1}{m}\\sum\\limits_{i=1}^{m}{[{{h}_{\\theta }}\\left( {{x}^{(i)}} \\right)-{{y}^{(i)}}]x_{_{0}}^{(i)}} \\\\ \n",
    " & \\text{     }{{\\theta }_{j}}:={{\\theta }_{j}}-a[\\frac{1}{m}\\sum\\limits_{i=1}^{m}{[{{h}_{\\theta }}\\left( {{x}^{(i)}} \\right)-{{y}^{(i)}}]x_{j}^{(i)}}+\\frac{\\lambda }{m}{{\\theta }_{j}}] \\\\ \n",
    " & \\text{          }\\!\\!\\}\\!\\!\\text{ } \\\\ \n",
    " & Repeat \\\\ \n",
    "\\end{align}\n",
    "\n",
    "对上面的算法中 j=1,2,...,n 时的更新式子进行调整可得： \n",
    "${{\\theta }_{j}}:={{\\theta }_{j}}(1-a\\frac{\\lambda }{m})-a\\frac{1}{m}\\sum\\limits_{i=1}^{m}{({{h}_{\\theta }}\\left( {{x}^{(i)}} \\right)-{{y}^{(i)}})x_{j}^{(i)}}$"
   ]
  },
  {
   "cell_type": "code",
   "execution_count": 51,
   "id": "7dd17db0",
   "metadata": {},
   "outputs": [],
   "source": [
    "#优化ex2中的梯度下降函数，将for循环改成向量运算以加速计算\n",
    "#https://www.heywhale.com/mw/project/5da56d46c83fb4004202c42b有矩阵部分的一些推导\n",
    "def gradient(theta,X,y,learning_rate):\n",
    "    theta=np.matrix(theta)\n",
    "    X=np.matrix(X)\n",
    "    y=np.matrix(y)\n",
    "    \n",
    "    error=sigmoid(X*theta.T)-y#X是m x (n+1)维,theta是1 x (n+1)维,所以结果是m x 1维度\n",
    "    #根据网页公式的推导可以得出X.T*error的结论\n",
    "    grad1=X.T*error/len(X)#(n+1) x 1维度\n",
    "    grad=grad1.T+learning_rate/len(X)*theta#转置下grad1使其变为1 x (n+1)维\n",
    "    \n",
    "    #因为theta0不需要正则化，所以根据公式单独覆盖掉theta0\n",
    "    grad[0,0]=np.sum(np.multiply(error,X[:,0]))/len(X)\n",
    "    \n",
    "    return np.array(grad).ravel()#应该还是1 x (n+1)维"
   ]
  },
  {
   "cell_type": "markdown",
   "id": "c654e031",
   "metadata": {},
   "source": [
    "现在我们已经定义了代价函数和梯度函数，现在是构建分类器的时候了。 对于这个任务，我们有10个可能的类，并且由于逻辑回归只能一次在2个类之间进行分类，我们需要多类分类的策略。 在本练习中，我们的任务是实现一对一全分类方法，其中具有k个不同类的标签就有k个分类器，每个分类器在“类别 i”和“不是 i”之间决定。 我们将把分类器训练包含在一个函数中，该函数计算10个分类器中的每个分类器的最终权重，并将权重返回为k X（n + 1）数组，其中n是参数数量。"
   ]
  },
  {
   "cell_type": "code",
   "execution_count": 52,
   "id": "c9b70617",
   "metadata": {},
   "outputs": [],
   "source": [
    "from scipy.optimize import minimize"
   ]
  },
  {
   "cell_type": "code",
   "execution_count": 53,
   "id": "5304374d",
   "metadata": {},
   "outputs": [],
   "source": [
    "def one_vs_all(X,y,num_labels,learning_rate):\n",
    "    rows=X.shape[0]\n",
    "    columns=X.shape[1]#也就是参数的数目\n",
    "    \n",
    "    #构造k个分类器的拟合参数矩阵\n",
    "    all_theta=np.zeros((num_labels,columns+1))\n",
    "    #插入对象；插入位置；插入的值；axis=1表示增加的向量以列的形式\n",
    "    X=np.insert(X,0,values=np.ones(rows),axis=1)\n",
    "    \n",
    "    #参考代码中的标签从1开始(因为0用标签10表示了)\n",
    "    for i in range(1,num_labels+1):\n",
    "        theta=np.zeros(columns+1)\n",
    "        y_i=[]#列表初始化\n",
    "        #每个分类器转换为二分类问题\n",
    "        for label in y:\n",
    "            if label==i:\n",
    "                y_i.append(1)\n",
    "            else:\n",
    "                y_i.append(0)\n",
    "        y_i=np.array(y_i)#列表转换成np的array格式 1 x rows 维度\n",
    "        y_i=np.reshape(y_i,(rows,1))#转换成 rows x 1维度\n",
    "        #求最小化代价函数对应的参数\n",
    "        #fun：该参数就是costFunction，要去最小化的损失函数，损失函数在定义时，theta必须为第一个参数且其shape必须为(n,)即一维数组\n",
    "        #x0：初始化的theta,其shape必须为shape(n,)即一维数组\n",
    "        #args：其他参数，如X，Y，lambda等\n",
    "        #method：该参数代表采用的方式，默认是BFGS, L-BFGS-B, SLSQP中的一种，可选TNC\n",
    "        #jac：该参数就是计算梯度的函数，和fun参数类似，第一个必须为theta且其shape必须为(n,)即一维数组,最后返回的梯度也必须为一个一维数组。\n",
    "        fmin=minimize(fun=costReg,x0=theta,args=(X,y_i,learning_rate),method='tnc',jac=gradient)\n",
    "        all_theta[i-1,:]=fmin.x#保存当前分类器的参数到all_theta的对应行\n",
    "    \n",
    "    return all_theta"
   ]
  },
  {
   "cell_type": "markdown",
   "id": "79071cdf",
   "metadata": {},
   "source": [
    "10个分类器，第一个分类器负责预测是标签1的概率，以此类推。"
   ]
  },
  {
   "cell_type": "code",
   "execution_count": 54,
   "id": "aaa52225",
   "metadata": {},
   "outputs": [
    {
     "data": {
      "text/plain": [
       "((5000, 401), (5000, 1), (401,), (10, 401))"
      ]
     },
     "execution_count": 54,
     "metadata": {},
     "output_type": "execute_result"
    }
   ],
   "source": [
    "rows=data['X'].shape[0]\n",
    "columns=data['X'].shape[1]\n",
    "\n",
    "all_theta=np.zeros((10,columns+1))#+1是为了添加一个额外的参数theta0\n",
    "#插入对象；插入位置；插入的值；axis=1表示增加的向量以列的形式\n",
    "X=np.insert(data['X'],0,np.ones(rows),axis=1)\n",
    "\n",
    "#对参数进行初始化以及检查维度\n",
    "theta=np.zeros(columns+1)\n",
    "\n",
    "y_1=[]\n",
    "for label in data['y']:\n",
    "    if label==1:#参考代码用的label==0，但是标签里面应该是没有0的，其实也不影响\n",
    "        y_1.append(1)\n",
    "    else:\n",
    "        y_1.append(0)\n",
    "y_1=np.array(y_1)\n",
    "y_1=np.reshape(y_1,(rows,1))\n",
    "            \n",
    "X.shape,y_1.shape,theta.shape,all_theta.shape"
   ]
  },
  {
   "cell_type": "code",
   "execution_count": 55,
   "id": "1d2acb2b",
   "metadata": {},
   "outputs": [
    {
     "data": {
      "text/plain": [
       "array([ 1,  2,  3,  4,  5,  6,  7,  8,  9, 10], dtype=uint8)"
      ]
     },
     "execution_count": 55,
     "metadata": {},
     "output_type": "execute_result"
    }
   ],
   "source": [
    "#检查标签\n",
    "#对于一维数组或者列表，unique函数去除其中重复的元素，并按元素由小到大返回一个新的无重复元素的数组或者列表\n",
    "np.unique(data['y'])"
   ]
  },
  {
   "cell_type": "code",
   "execution_count": 57,
   "id": "e3d2e79c",
   "metadata": {},
   "outputs": [
    {
     "data": {
      "text/plain": [
       "(array([[-2.38291346e+00,  0.00000000e+00,  0.00000000e+00, ...,\n",
       "          1.30474743e-03, -8.24531507e-10,  0.00000000e+00],\n",
       "        [-3.18403111e+00,  0.00000000e+00,  0.00000000e+00, ...,\n",
       "          4.46025411e-03, -5.08531235e-04,  0.00000000e+00],\n",
       "        [-4.80012163e+00,  0.00000000e+00,  0.00000000e+00, ...,\n",
       "         -2.88116417e-05, -2.47992614e-07,  0.00000000e+00],\n",
       "        ...,\n",
       "        [-7.98722644e+00,  0.00000000e+00,  0.00000000e+00, ...,\n",
       "         -8.95295280e-05,  7.21832616e-06,  0.00000000e+00],\n",
       "        [-4.57235036e+00,  0.00000000e+00,  0.00000000e+00, ...,\n",
       "         -1.33349450e-03,  9.96261157e-05,  0.00000000e+00],\n",
       "        [-5.40509120e+00,  0.00000000e+00,  0.00000000e+00, ...,\n",
       "         -1.16616386e-04,  7.88424336e-06,  0.00000000e+00]]),\n",
       " (10, 401))"
      ]
     },
     "execution_count": 57,
     "metadata": {},
     "output_type": "execute_result"
    }
   ],
   "source": [
    "all_theta=one_vs_all(data['X'],data['y'],10,1)\n",
    "all_theta,all_theta.shape"
   ]
  },
  {
   "cell_type": "code",
   "execution_count": 58,
   "id": "ad159e83",
   "metadata": {},
   "outputs": [],
   "source": [
    "#用训练完毕的分类器预测每个图像的标签，输入样本，输出标签\n",
    "def predict_all(X,all_theta):\n",
    "    rows=X.shape[0]\n",
    "    columns=X.shape[1]\n",
    "    num_labels=all_theta.shape[0]#即10个类别\n",
    "    \n",
    "    #同样我们要向X插入一列1\n",
    "    X=np.insert(data['X'],0,np.ones(rows),axis=1)#5000 x 401\n",
    "    \n",
    "    #矩阵化\n",
    "    X=np.matrix(X)\n",
    "    all_theta=np.matrix(all_theta)\n",
    "    \n",
    "    #计算每个类的类别概率\n",
    "    h=sigmoid(X*all_theta.T)\n",
    "    h_argmax=np.argmax(h,axis=1)#关于这个axis=1参考下面的解释\n",
    "    #把索引变成从1开始，因为标签0对应索引10\n",
    "    h_argmax=h_argmax+1\n",
    "    \n",
    "    return h_argmax"
   ]
  },
  {
   "cell_type": "markdown",
   "id": "08e3f44b",
   "metadata": {},
   "source": [
    "之前在代码：```X=np.insert(X,0,values=np.ones(rows),axis=1)```当中，曾认为axis=1表示列插入，这里应当纠正下解释，针对二维数组来说确实可以理解成axis=0表示行插入，axis=1表示列插入，但是如果这么理解，上面代码中的```h_argmax=np.argmax(h,axis=1)```中的axis可能会误解成统计每列的最大值。因为我们都知道本练习当中h的结果应该为5000 x 10 维度，每行表示当前数字对应在10个分类器下的预测概率结果，我们应当取每行的最大预测概率而非每列的最大预测概率。    \n",
    "其实只要理解了numpy中的参数axis所表示的含义，就明白为什么取0 1或者其他参数了，简单来说就是**最外面的括号代表着 axis=0，依次往里的括号对应的 axis 的计数就依次加 1**  \n",
    "详细可以参考这篇：  \n",
    "https://zhuanlan.zhihu.com/p/30960190"
   ]
  },
  {
   "cell_type": "code",
   "execution_count": 59,
   "id": "d39f58ba",
   "metadata": {},
   "outputs": [
    {
     "name": "stdout",
     "output_type": "stream",
     "text": [
      "accuracy = 94.46%\n"
     ]
    }
   ],
   "source": [
    "y_predict=predict_all(data['X'],all_theta)\n",
    "\n",
    "#统计正确率\n",
    "correct=0\n",
    "for i in range(len(y_predict)):\n",
    "    if y_predict[i]==data['y'][i]:\n",
    "        correct=correct+1\n",
    "\n",
    "accuracy=correct/(len(y_predict))\n",
    "print('accuracy = {0}%'.format(accuracy*100))"
   ]
  },
  {
   "cell_type": "code",
   "execution_count": null,
   "id": "db6d277e",
   "metadata": {},
   "outputs": [],
   "source": []
  },
  {
   "cell_type": "code",
   "execution_count": null,
   "id": "1d9f8dd7",
   "metadata": {},
   "outputs": [],
   "source": []
  },
  {
   "cell_type": "code",
   "execution_count": null,
   "id": "078c3f7d",
   "metadata": {},
   "outputs": [],
   "source": []
  }
 ],
 "metadata": {
  "kernelspec": {
   "display_name": "Python 3",
   "language": "python",
   "name": "python3"
  },
  "language_info": {
   "codemirror_mode": {
    "name": "ipython",
    "version": 3
   },
   "file_extension": ".py",
   "mimetype": "text/x-python",
   "name": "python",
   "nbconvert_exporter": "python",
   "pygments_lexer": "ipython3",
   "version": "3.8.8"
  }
 },
 "nbformat": 4,
 "nbformat_minor": 5
}
