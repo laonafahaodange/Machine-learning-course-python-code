{
 "cells": [
  {
   "cell_type": "markdown",
   "id": "1f882e67",
   "metadata": {},
   "source": [
    "# machine learning exercise2"
   ]
  },
  {
   "cell_type": "markdown",
   "id": "f02d665d",
   "metadata": {},
   "source": [
    "## logistic regression"
   ]
  },
  {
   "cell_type": "markdown",
   "id": "5a23e4c9",
   "metadata": {},
   "source": [
    "In this part of the exercise, you will build a logistic regression model to\n",
    "predict whether a student gets admitted into a university.\n",
    "Suppose that you are the administrator of a university department and\n",
    "you want to determine each applicant’s chance of admission based on their\n",
    "results on two exams. You have historical data from previous applicants\n",
    "that you can use as a training set for logistic regression. For each training\n",
    "example, you have the applicant’s scores on two exams and the admissions\n",
    "decision.\n",
    "Your task is to build a classification model that estimates an applicant’s\n",
    "probability of admission based the scores from those two exams. "
   ]
  },
  {
   "cell_type": "markdown",
   "id": "0c28be92",
   "metadata": {},
   "source": [
    "在本次练习中，你将建立逻辑回归模型来预测一名学生是否能被一所大学录取。\n",
    "假定你是一所大学部门的管理员，并且你想基于每位申请者两次测试的结果来决定是否录取。你有来自之前申请者的历史数据来作为逻辑回归的训练集。对每个训练样本来说，已知申请者两次测验的分数以及录取情况。\n",
    "你的任务是建立一个能根据两次测试分数估计一名申请者被录取概率的分类模型。"
   ]
  },
  {
   "cell_type": "code",
   "execution_count": 1,
   "id": "6050612d",
   "metadata": {},
   "outputs": [],
   "source": [
    "import numpy as np\n",
    "import pandas as pd\n",
    "import matplotlib.pyplot as plt"
   ]
  },
  {
   "cell_type": "code",
   "execution_count": null,
   "id": "e88dc07a",
   "metadata": {},
   "outputs": [],
   "source": [
    "path='ex2data1.txt'\n",
    "data"
   ]
  },
  {
   "cell_type": "code",
   "execution_count": null,
   "id": "5ea80772",
   "metadata": {},
   "outputs": [],
   "source": []
  },
  {
   "cell_type": "code",
   "execution_count": null,
   "id": "1a55ae42",
   "metadata": {},
   "outputs": [],
   "source": []
  },
  {
   "cell_type": "code",
   "execution_count": null,
   "id": "cd94b15c",
   "metadata": {},
   "outputs": [],
   "source": []
  },
  {
   "cell_type": "code",
   "execution_count": null,
   "id": "d59619ea",
   "metadata": {},
   "outputs": [],
   "source": []
  },
  {
   "cell_type": "code",
   "execution_count": null,
   "id": "bbc52cbb",
   "metadata": {},
   "outputs": [],
   "source": []
  },
  {
   "cell_type": "code",
   "execution_count": null,
   "id": "68e883ba",
   "metadata": {},
   "outputs": [],
   "source": []
  }
 ],
 "metadata": {
  "kernelspec": {
   "display_name": "Python 3",
   "language": "python",
   "name": "python3"
  },
  "language_info": {
   "codemirror_mode": {
    "name": "ipython",
    "version": 3
   },
   "file_extension": ".py",
   "mimetype": "text/x-python",
   "name": "python",
   "nbconvert_exporter": "python",
   "pygments_lexer": "ipython3",
   "version": "3.8.8"
  }
 },
 "nbformat": 4,
 "nbformat_minor": 5
}
